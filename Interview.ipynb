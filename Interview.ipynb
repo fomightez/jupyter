{
 "cells": [
  {
   "cell_type": "code",
   "execution_count": 4,
   "metadata": {},
   "outputs": [
    {
     "name": "stdout",
     "output_type": "stream",
     "text": [
      "[Open3D WARNING] Unable to load file objects\\Bridging.stl with ASSIMP\n",
      "PyntCloud\n",
      "0 points with 0 scalar fields\n",
      "0 faces in mesh\n",
      "0 kdtrees\n",
      "0 voxelgrids\n",
      "Centroid: nan, nan, nan\n",
      "Other attributes:\n",
      "\n"
     ]
    },
    {
     "ename": "ValueError",
     "evalue": "'a' cannot be empty unless no samples are taken",
     "output_type": "error",
     "traceback": [
      "\u001b[1;31m---------------------------------------------------------------------------\u001b[0m",
      "\u001b[1;31mValueError\u001b[0m                                Traceback (most recent call last)",
      "\u001b[1;32m<ipython-input-4-8d92f230fe50>\u001b[0m in \u001b[0;36m<module>\u001b[1;34m\u001b[0m\n\u001b[0;32m     15\u001b[0m \u001b[1;33m\u001b[0m\u001b[0m\n\u001b[0;32m     16\u001b[0m \u001b[0mprint\u001b[0m\u001b[1;33m(\u001b[0m\u001b[0mtest1\u001b[0m\u001b[1;33m)\u001b[0m\u001b[1;33m\u001b[0m\u001b[1;33m\u001b[0m\u001b[0m\n\u001b[1;32m---> 17\u001b[1;33m cloud = test1.get_sample(\n\u001b[0m\u001b[0;32m     18\u001b[0m             \u001b[1;34m\"mesh_random\"\u001b[0m\u001b[1;33m,\u001b[0m\u001b[1;33m\u001b[0m\u001b[1;33m\u001b[0m\u001b[0m\n\u001b[0;32m     19\u001b[0m             \u001b[0mn\u001b[0m\u001b[1;33m=\u001b[0m\u001b[1;36m100000\u001b[0m\u001b[1;33m,\u001b[0m\u001b[1;33m\u001b[0m\u001b[1;33m\u001b[0m\u001b[0m\n",
      "\u001b[1;32mc:\\users\\kurt\\appdata\\local\\programs\\python\\python38\\lib\\site-packages\\pyntcloud\\core_class.py\u001b[0m in \u001b[0;36mget_sample\u001b[1;34m(self, name, as_PyntCloud, **kwargs)\u001b[0m\n\u001b[0;32m    532\u001b[0m             \u001b[0msampler\u001b[0m \u001b[1;33m=\u001b[0m \u001b[0mALL_SAMPLERS\u001b[0m\u001b[1;33m[\u001b[0m\u001b[0mname\u001b[0m\u001b[1;33m]\u001b[0m\u001b[1;33m(\u001b[0m\u001b[0mpyntcloud\u001b[0m\u001b[1;33m=\u001b[0m\u001b[0mself\u001b[0m\u001b[1;33m,\u001b[0m \u001b[1;33m**\u001b[0m\u001b[0mkwargs\u001b[0m\u001b[1;33m)\u001b[0m\u001b[1;33m\u001b[0m\u001b[1;33m\u001b[0m\u001b[0m\n\u001b[0;32m    533\u001b[0m             \u001b[0msampler\u001b[0m\u001b[1;33m.\u001b[0m\u001b[0mextract_info\u001b[0m\u001b[1;33m(\u001b[0m\u001b[1;33m)\u001b[0m\u001b[1;33m\u001b[0m\u001b[1;33m\u001b[0m\u001b[0m\n\u001b[1;32m--> 534\u001b[1;33m             \u001b[0msample\u001b[0m \u001b[1;33m=\u001b[0m \u001b[0msampler\u001b[0m\u001b[1;33m.\u001b[0m\u001b[0mcompute\u001b[0m\u001b[1;33m(\u001b[0m\u001b[1;33m)\u001b[0m\u001b[1;33m\u001b[0m\u001b[1;33m\u001b[0m\u001b[0m\n\u001b[0m\u001b[0;32m    535\u001b[0m \u001b[1;33m\u001b[0m\u001b[0m\n\u001b[0;32m    536\u001b[0m             \u001b[1;32mif\u001b[0m \u001b[0mas_PyntCloud\u001b[0m\u001b[1;33m:\u001b[0m\u001b[1;33m\u001b[0m\u001b[1;33m\u001b[0m\u001b[0m\n",
      "\u001b[1;32mc:\\users\\kurt\\appdata\\local\\programs\\python\\python38\\lib\\site-packages\\pyntcloud\\samplers\\mesh.py\u001b[0m in \u001b[0;36mcompute\u001b[1;34m(self)\u001b[0m\n\u001b[0;32m     64\u001b[0m         \u001b[0mareas\u001b[0m \u001b[1;33m=\u001b[0m \u001b[0mtriangle_area_multi\u001b[0m\u001b[1;33m(\u001b[0m\u001b[0mself\u001b[0m\u001b[1;33m.\u001b[0m\u001b[0mv1_xyz\u001b[0m\u001b[1;33m,\u001b[0m \u001b[0mself\u001b[0m\u001b[1;33m.\u001b[0m\u001b[0mv2_xyz\u001b[0m\u001b[1;33m,\u001b[0m \u001b[0mself\u001b[0m\u001b[1;33m.\u001b[0m\u001b[0mv3_xyz\u001b[0m\u001b[1;33m)\u001b[0m\u001b[1;33m\u001b[0m\u001b[1;33m\u001b[0m\u001b[0m\n\u001b[0;32m     65\u001b[0m         \u001b[0mprobabilities\u001b[0m \u001b[1;33m=\u001b[0m \u001b[0mareas\u001b[0m \u001b[1;33m/\u001b[0m \u001b[0mnp\u001b[0m\u001b[1;33m.\u001b[0m\u001b[0msum\u001b[0m\u001b[1;33m(\u001b[0m\u001b[0mareas\u001b[0m\u001b[1;33m)\u001b[0m\u001b[1;33m\u001b[0m\u001b[1;33m\u001b[0m\u001b[0m\n\u001b[1;32m---> 66\u001b[1;33m         random_idx = np.random.choice(\n\u001b[0m\u001b[0;32m     67\u001b[0m             np.arange(len(areas)), size=self.n, p=probabilities)\n\u001b[0;32m     68\u001b[0m \u001b[1;33m\u001b[0m\u001b[0m\n",
      "\u001b[1;32mmtrand.pyx\u001b[0m in \u001b[0;36mnumpy.random.mtrand.RandomState.choice\u001b[1;34m()\u001b[0m\n",
      "\u001b[1;31mValueError\u001b[0m: 'a' cannot be empty unless no samples are taken"
     ]
    }
   ],
   "source": [
    "from pyntcloud import PyntCloud\n",
    "import open3d as od\n",
    "\n",
    "\n",
    "path =C:\\Users\\Kurt\\plotobjects\\Bridging.stl\"\n",
    "n_size=32\n",
    "\n",
    "\n",
    "\n",
    "if path.endswith(\".stl\") :\n",
    "    test1_or = od.io.read_triangle_mesh(path)\n",
    "    test1 = PyntCloud.from_instance(\"open3d\", test1_or)\n",
    "else:\n",
    "    test1 = PyntCloud.from_file(path)\n",
    "    \n",
    "print(test1)\n",
    "cloud = test1.get_sample(\n",
    "            \"mesh_random\",\n",
    "            n=100000,\n",
    "            rgb=False,\n",
    "            normals=False,\n",
    "            as_PyntCloud=True)\n",
    "\n",
    "cloud.plot()\n",
    "\n",
    "voxelgrid_id = cloud.add_structure(\"voxelgrid\", n_x=n_size, n_y=n_size, n_z=n_size)\n",
    "\n",
    "voxelgrid = cloud.structures[voxelgrid_id]\n",
    "\n",
    "voxelgrid.plot(d=3, mode=\"density\", cmap=\"hsv\")\n",
    "\n"
   ]
  },
  {
   "cell_type": "code",
   "execution_count": null,
   "metadata": {},
   "outputs": [],
   "source": []
  }
 ],
 "metadata": {
  "kernelspec": {
   "display_name": "Python 3",
   "language": "python",
   "name": "python3"
  },
  "language_info": {
   "codemirror_mode": {
    "name": "ipython",
    "version": 3
   },
   "file_extension": ".py",
   "mimetype": "text/x-python",
   "name": "python",
   "nbconvert_exporter": "python",
   "pygments_lexer": "ipython3",
   "version": "3.8.7"
  }
 },
 "nbformat": 4,
 "nbformat_minor": 4
}
