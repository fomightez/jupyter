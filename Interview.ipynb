{
 "cells": [
  {
   "cell_type": "code",
   "execution_count": 1,
   "metadata": {},
   "outputs": [
    {
     "name": "stdout",
     "output_type": "stream",
     "text": [
      "PyntCloud\n",
      "7422 points with 0 scalar fields\n",
      "12400 faces in mesh\n",
      "0 kdtrees\n",
      "0 voxelgrids\n",
      "Centroid: -1.4989910125732422, 0.007463558577001095, 0.24035993218421936\n",
      "Other attributes:\n",
      "\n"
     ]
    },
    {
     "data": {
      "application/vnd.jupyter.widget-view+json": {
       "model_id": "d9b0c55939f84376a8c9e869276ad06f",
       "version_major": 2,
       "version_minor": 0
      },
      "text/plain": [
       "Renderer(camera=PerspectiveCamera(aspect=1.6, fov=90.0, position=(-0.11665613949298859, 49.328912390396, 17.10…"
      ]
     },
     "metadata": {},
     "output_type": "display_data"
    },
    {
     "data": {
      "application/vnd.jupyter.widget-view+json": {
       "model_id": "bbe6cc53f9c84d6f87b40f884451c465",
       "version_major": 2,
       "version_minor": 0
      },
      "text/plain": [
       "HBox(children=(Label(value='Point size:'), FloatSlider(value=9.868899536132812, max=98.68899536132812, step=0.…"
      ]
     },
     "metadata": {},
     "output_type": "display_data"
    },
    {
     "data": {
      "application/vnd.jupyter.widget-view+json": {
       "model_id": "f9cab0badfb24e17a1c72ada3d74b13f",
       "version_major": 2,
       "version_minor": 0
      },
      "text/plain": [
       "Renderer(camera=PerspectiveCamera(aspect=1.6, fov=90.0, position=(15.431309700012207, 46.50000190734863, 44.35…"
      ]
     },
     "metadata": {},
     "output_type": "display_data"
    }
   ],
   "source": [
    "from pyntcloud import PyntCloud\n",
    "import open3d as od\n",
    "\n",
    "\n",
    "path=\"objects\/Briding.stl\","
    "n_size=32\n",
    "\n",
    "\n",
    "\n",
    "if path.endswith(\".stl\") :\n",
    "    test1_or = od.io.read_triangle_mesh(path)\n",
    "    test1 = PyntCloud.from_instance(\"open3d\", test1_or)\n",
    "else:\n",
    "    test1 = PyntCloud.from_file(path)\n",
    "    \n",
    "print(test1)\n",
    "cloud = test1.get_sample(\n",
    "            \"mesh_random\",\n",
    "            n=100000,\n",
    "            rgb=False,\n",
    "            normals=False,\n",
    "            as_PyntCloud=True)\n",
    "\n",
    "cloud.plot()\n",
    "\n",
    "voxelgrid_id = cloud.add_structure(\"voxelgrid\", n_x=n_size, n_y=n_size, n_z=n_size)\n",
    "\n",
    "voxelgrid = cloud.structures[voxelgrid_id]\n",
    "\n",
    "voxelgrid.plot(d=3, mode=\"density\", cmap=\"hsv\")\n",
    "\n"
   ]
  },
  {
   "cell_type": "code",
   "execution_count": null,
   "metadata": {},
   "outputs": [],
   "source": []
  }
 ],
 "metadata": {
  "kernelspec": {
   "display_name": "Python 3",
   "language": "python",
   "name": "python3"
  },
  "language_info": {
   "codemirror_mode": {
    "name": "ipython",
    "version": 3
   },
   "file_extension": ".py",
   "mimetype": "text/x-python",
   "name": "python",
   "nbconvert_exporter": "python",
   "pygments_lexer": "ipython3",
   "version": "3.8.7"
  }
 },
 "nbformat": 4,
 "nbformat_minor": 4
}
